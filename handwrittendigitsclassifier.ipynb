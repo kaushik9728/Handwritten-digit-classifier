{
  "nbformat": 4,
  "nbformat_minor": 0,
  "metadata": {
    "colab": {
      "name": "Untitled10.ipynb",
      "version": "0.3.2",
      "provenance": [],
      "include_colab_link": true
    }
  },
  "cells": [
    {
      "cell_type": "markdown",
      "metadata": {
        "id": "view-in-github",
        "colab_type": "text"
      },
      "source": [
        "[View in Colaboratory](https://colab.research.google.com/github/kaushik9728/Handwritten-digit-classifier/blob/master/handwrittendigitsclassifier.ipynb)"
      ]
    },
    {
      "metadata": {
        "id": "xFDnT9KQncCq",
        "colab_type": "text"
      },
      "cell_type": "markdown",
      "source": [
        "## support vector machines"
      ]
    },
    {
      "metadata": {
        "id": "xzXyUFIZnPtW",
        "colab_type": "text"
      },
      "cell_type": "markdown",
      "source": [
        "## we gonna apply the support vector classifier to the digits datasets already there in scikit-learn  to classify handwritten digits"
      ]
    },
    {
      "metadata": {
        "id": "OeCidO7Mn-lI",
        "colab_type": "code",
        "colab": {}
      },
      "cell_type": "code",
      "source": [
        "import numpy as np\n",
        "import pandas as pd\n",
        "import seaborn as sns\n",
        "import matplotlib.pyplot as plt"
      ],
      "execution_count": 0,
      "outputs": []
    },
    {
      "metadata": {
        "id": "k3LA0BqkoUct",
        "colab_type": "text"
      },
      "cell_type": "markdown",
      "source": [
        "## now we load digits dataset"
      ]
    },
    {
      "metadata": {
        "id": "LNkYiEAsoY9i",
        "colab_type": "code",
        "colab": {}
      },
      "cell_type": "code",
      "source": [
        "from sklearn.datasets import load_digits"
      ],
      "execution_count": 0,
      "outputs": []
    },
    {
      "metadata": {
        "id": "XAerPVJhrqNa",
        "colab_type": "code",
        "colab": {}
      },
      "cell_type": "code",
      "source": [
        "digits = load_digits()"
      ],
      "execution_count": 0,
      "outputs": []
    },
    {
      "metadata": {
        "id": "o-WObsRKrqQR",
        "colab_type": "code",
        "colab": {}
      },
      "cell_type": "code",
      "source": [
        "X = digits.data"
      ],
      "execution_count": 0,
      "outputs": []
    },
    {
      "metadata": {
        "id": "Ljc11fvNsFjo",
        "colab_type": "code",
        "colab": {}
      },
      "cell_type": "code",
      "source": [
        "y = digits.target"
      ],
      "execution_count": 0,
      "outputs": []
    },
    {
      "metadata": {
        "id": "T0a4w-2EsP0N",
        "colab_type": "text"
      },
      "cell_type": "markdown",
      "source": [
        "X and Y are numpy arrays storing feature and target the pixel info. and the denoting the digits respectively"
      ]
    },
    {
      "metadata": {
        "id": "W6bTKB9SzyTo",
        "colab_type": "text"
      },
      "cell_type": "markdown",
      "source": [
        "## no we print some of digits\n",
        "\n"
      ]
    },
    {
      "metadata": {
        "id": "0jDHdJThz4qe",
        "colab_type": "code",
        "colab": {
          "base_uri": "https://localhost:8080/",
          "height": 372
        },
        "outputId": "8c39f51c-399e-4030-dea4-12a461226358"
      },
      "cell_type": "code",
      "source": [
        "plt.gray()\n",
        "plt.matshow(digits.images[2])\n",
        "plt.show()"
      ],
      "execution_count": 8,
      "outputs": [
        {
          "output_type": "display_data",
          "data": {
            "text/plain": [
              "<matplotlib.figure.Figure at 0x7fec24253dd0>"
            ]
          },
          "metadata": {
            "tags": []
          }
        },
        {
          "output_type": "display_data",
          "data": {
            "image/png": "[encoded data removed]",
            "text/plain": [
              "<matplotlib.figure.Figure at 0x7fec24253a10>"
            ]
          },
          "metadata": {
            "tags": []
          }
        }
      ]
    },
    {
      "metadata": {
        "id": "VkwCCA_Zz84X",
        "colab_type": "code",
        "colab": {
          "base_uri": "https://localhost:8080/",
          "height": 372
        },
        "outputId": "09a28c19-6d99-4759-ffdd-7d93fec05249"
      },
      "cell_type": "code",
      "source": [
        "plt.gray()\n",
        "plt.matshow(digits.images[7])\n",
        "plt.show()"
      ],
      "execution_count": 9,
      "outputs": [
        {
          "output_type": "display_data",
          "data": {
            "text/plain": [
              "<matplotlib.figure.Figure at 0x7fec23de9810>"
            ]
          },
          "metadata": {
            "tags": []
          }
        },
        {
          "output_type": "display_data",
          "data": {
            "image/png": "[encoded data removed]",
            "text/plain": [
              "<matplotlib.figure.Figure at 0x7fec23de9510>"
            ]
          },
          "metadata": {
            "tags": []
          }
        }
      ]
    },
    {
      "metadata": {
        "id": "tDkLwQTw0BGs",
        "colab_type": "code",
        "colab": {
          "base_uri": "https://localhost:8080/",
          "height": 372
        },
        "outputId": "c5b3aad6-1382-42ec-8ad8-5c10c5f27f09"
      },
      "cell_type": "code",
      "source": [
        "plt.gray()\n",
        "plt.matshow(digits.images[9])\n",
        "plt.show()"
      ],
      "execution_count": 10,
      "outputs": [
        {
          "output_type": "display_data",
          "data": {
            "text/plain": [
              "<matplotlib.figure.Figure at 0x7fec21c78750>"
            ]
          },
          "metadata": {
            "tags": []
          }
        },
        {
          "output_type": "display_data",
          "data": {
            "image/png": "[encoded data removed]",
            "text/plain": [
              "<matplotlib.figure.Figure at 0x7fec21c786d0>"
            ]
          },
          "metadata": {
            "tags": []
          }
        }
      ]
    },
    {
      "metadata": {
        "id": "xTuY3jza0DEL",
        "colab_type": "code",
        "colab": {}
      },
      "cell_type": "code",
      "source": [
        "from sklearn.model_selection import train_test_split"
      ],
      "execution_count": 0,
      "outputs": []
    },
    {
      "metadata": {
        "id": "TMLiTXTL0HY9",
        "colab_type": "code",
        "colab": {}
      },
      "cell_type": "code",
      "source": [
        "X_train, X_test, y_train, y_test = train_test_split(X, y, test_size=0.4, random_state=42)"
      ],
      "execution_count": 0,
      "outputs": []
    },
    {
      "metadata": {
        "id": "GnJoMP5Q0LGL",
        "colab_type": "code",
        "colab": {}
      },
      "cell_type": "code",
      "source": [
        "from sklearn.svm import SVC"
      ],
      "execution_count": 0,
      "outputs": []
    },
    {
      "metadata": {
        "id": "WPlHTf7Z0Wts",
        "colab_type": "text"
      },
      "cell_type": "markdown",
      "source": [
        "## linear kernel"
      ]
    },
    {
      "metadata": {
        "id": "x8DVbe6b0cOH",
        "colab_type": "code",
        "colab": {}
      },
      "cell_type": "code",
      "source": [
        "linear = SVC(kernel='linear')"
      ],
      "execution_count": 0,
      "outputs": []
    },
    {
      "metadata": {
        "id": "tIMh8NSC0xMM",
        "colab_type": "code",
        "colab": {
          "base_uri": "https://localhost:8080/",
          "height": 85
        },
        "outputId": "a30adb7f-dab4-4055-b627-f7e3a6788f36"
      },
      "cell_type": "code",
      "source": [
        "linear.fit(X_train, y_train)"
      ],
      "execution_count": 16,
      "outputs": [
        {
          "output_type": "execute_result",
          "data": {
            "text/plain": [
              "SVC(C=1.0, cache_size=200, class_weight=None, coef0=0.0,\n",
              "  decision_function_shape='ovr', degree=3, gamma='auto', kernel='linear',\n",
              "  max_iter=-1, probability=False, random_state=None, shrinking=True,\n",
              "  tol=0.001, verbose=False)"
            ]
          },
          "metadata": {
            "tags": []
          },
          "execution_count": 16
        }
      ]
    },
    {
      "metadata": {
        "id": "38W3dEGP01s7",
        "colab_type": "code",
        "colab": {}
      },
      "cell_type": "code",
      "source": [
        "linearPredictions = linear.predict(X_test)"
      ],
      "execution_count": 0,
      "outputs": []
    },
    {
      "metadata": {
        "id": "swepkxtY05-w",
        "colab_type": "code",
        "colab": {}
      },
      "cell_type": "code",
      "source": [
        "from sklearn.metrics import confusion_matrix"
      ],
      "execution_count": 0,
      "outputs": []
    },
    {
      "metadata": {
        "id": "tS_mzN6d1OQW",
        "colab_type": "code",
        "colab": {
          "base_uri": "https://localhost:8080/",
          "height": 187
        },
        "outputId": "e95a0df4-f4ae-4639-921b-58c52fae6e98"
      },
      "cell_type": "code",
      "source": [
        "linearCM = confusion_matrix(y_test, linearPredictions)\n",
        "print(linearCM)"
      ],
      "execution_count": 19,
      "outputs": [
        {
          "output_type": "stream",
          "text": [
            "[[67  0  0  0  0  0  0  0  0  0]\n",
            " [ 0 71  0  0  1  0  0  0  0  0]\n",
            " [ 0  0 66  0  0  0  0  0  0  0]\n",
            " [ 0  0  0 69  0  1  0  0  1  0]\n",
            " [ 0  0  0  0 78  0  0  0  0  0]\n",
            " [ 0  0  0  0  0 81  0  1  0  1]\n",
            " [ 0  0  0  0  0  0 69  0  0  0]\n",
            " [ 0  0  0  0  0  0  0 70  0  1]\n",
            " [ 0  3  0  0  0  1  0  0 61  0]\n",
            " [ 0  0  0  1  1  0  0  0  0 75]]\n"
          ],
          "name": "stdout"
        }
      ]
    },
    {
      "metadata": {
        "id": "TtI1HHcq1aMZ",
        "colab_type": "code",
        "colab": {}
      },
      "cell_type": "code",
      "source": [
        "from sklearn.metrics import accuracy_score"
      ],
      "execution_count": 0,
      "outputs": []
    },
    {
      "metadata": {
        "id": "KQ8b5Qct1jLZ",
        "colab_type": "code",
        "colab": {
          "base_uri": "https://localhost:8080/",
          "height": 34
        },
        "outputId": "e45458e9-5810-406b-9c37-0100ab660707"
      },
      "cell_type": "code",
      "source": [
        "print( accuracy_score(y_test, linearPredictions))"
      ],
      "execution_count": 21,
      "outputs": [
        {
          "output_type": "stream",
          "text": [
            "0.9833101529902643\n"
          ],
          "name": "stdout"
        }
      ]
    },
    {
      "metadata": {
        "id": "lDyKsshs1-rq",
        "colab_type": "code",
        "colab": {}
      },
      "cell_type": "code",
      "source": [
        "from sklearn.metrics import classification_report"
      ],
      "execution_count": 0,
      "outputs": []
    },
    {
      "metadata": {
        "id": "e6oFXeRC1sDs",
        "colab_type": "code",
        "colab": {
          "base_uri": "https://localhost:8080/",
          "height": 272
        },
        "outputId": "3542a688-fe53-4758-9e23-5efb3e7f53aa"
      },
      "cell_type": "code",
      "source": [
        "print(classification_report(y_test, linearPredictions))"
      ],
      "execution_count": 24,
      "outputs": [
        {
          "output_type": "stream",
          "text": [
            "             precision    recall  f1-score   support\n",
            "\n",
            "          0       1.00      1.00      1.00        67\n",
            "          1       0.96      0.99      0.97        72\n",
            "          2       1.00      1.00      1.00        66\n",
            "          3       0.99      0.97      0.98        71\n",
            "          4       0.97      1.00      0.99        78\n",
            "          5       0.98      0.98      0.98        83\n",
            "          6       1.00      1.00      1.00        69\n",
            "          7       0.99      0.99      0.99        71\n",
            "          8       0.98      0.94      0.96        65\n",
            "          9       0.97      0.97      0.97        77\n",
            "\n",
            "avg / total       0.98      0.98      0.98       719\n",
            "\n"
          ],
          "name": "stdout"
        }
      ]
    },
    {
      "metadata": {
        "id": "z1rfmuTv2kK-",
        "colab_type": "text"
      },
      "cell_type": "markdown",
      "source": [
        "## polynomial  kernel"
      ]
    },
    {
      "metadata": {
        "id": "_x7eH7XB2mZS",
        "colab_type": "code",
        "colab": {}
      },
      "cell_type": "code",
      "source": [
        "polynomial = SVC(kernel='poly')"
      ],
      "execution_count": 0,
      "outputs": []
    },
    {
      "metadata": {
        "id": "DJzdqzBb2xlu",
        "colab_type": "code",
        "colab": {
          "base_uri": "https://localhost:8080/",
          "height": 85
        },
        "outputId": "9f9d4bc0-4aa3-4500-b710-c4e6f7e2f4ed"
      },
      "cell_type": "code",
      "source": [
        "polynomial.fit(X_train, y_train)"
      ],
      "execution_count": 28,
      "outputs": [
        {
          "output_type": "execute_result",
          "data": {
            "text/plain": [
              "SVC(C=1.0, cache_size=200, class_weight=None, coef0=0.0,\n",
              "  decision_function_shape='ovr', degree=3, gamma='auto', kernel='poly',\n",
              "  max_iter=-1, probability=False, random_state=None, shrinking=True,\n",
              "  tol=0.001, verbose=False)"
            ]
          },
          "metadata": {
            "tags": []
          },
          "execution_count": 28
        }
      ]
    },
    {
      "metadata": {
        "id": "vBc7rXn33CM3",
        "colab_type": "code",
        "colab": {}
      },
      "cell_type": "code",
      "source": [
        "polyPredictions = polynomial.predict(X_test)"
      ],
      "execution_count": 0,
      "outputs": []
    },
    {
      "metadata": {
        "id": "lySewQrK3Hjw",
        "colab_type": "code",
        "colab": {
          "base_uri": "https://localhost:8080/",
          "height": 34
        },
        "outputId": "790680f6-04c1-414c-9b7e-3fe996f5f729"
      },
      "cell_type": "code",
      "source": [
        "print(accuracy_score(y_test, polyPredictions))"
      ],
      "execution_count": 32,
      "outputs": [
        {
          "output_type": "stream",
          "text": [
            "0.9902642559109874\n"
          ],
          "name": "stdout"
        }
      ]
    },
    {
      "metadata": {
        "id": "zRqxpuLH3RJi",
        "colab_type": "code",
        "colab": {
          "base_uri": "https://localhost:8080/",
          "height": 187
        },
        "outputId": "edc4ce7e-9400-42d4-b90c-7042b736a164"
      },
      "cell_type": "code",
      "source": [
        "polynomialCM = confusion_matrix(y_test, polyPredictions)\n",
        "print(polynomialCM)"
      ],
      "execution_count": 34,
      "outputs": [
        {
          "output_type": "stream",
          "text": [
            "[[67  0  0  0  0  0  0  0  0  0]\n",
            " [ 0 72  0  0  0  0  0  0  0  0]\n",
            " [ 0  0 66  0  0  0  0  0  0  0]\n",
            " [ 0  0  0 69  0  1  0  0  1  0]\n",
            " [ 0  0  0  0 78  0  0  0  0  0]\n",
            " [ 0  0  0  0  0 82  0  0  0  1]\n",
            " [ 0  0  0  0  0  0 69  0  0  0]\n",
            " [ 0  0  0  0  0  0  0 70  0  1]\n",
            " [ 0  1  0  0  0  0  0  0 64  0]\n",
            " [ 0  0  0  1  0  0  0  1  0 75]]\n"
          ],
          "name": "stdout"
        }
      ]
    },
    {
      "metadata": {
        "id": "1GN1sgif3oHr",
        "colab_type": "code",
        "colab": {
          "base_uri": "https://localhost:8080/",
          "height": 272
        },
        "outputId": "180d22d0-5c6c-4ed0-d340-844b04c1aa8d"
      },
      "cell_type": "code",
      "source": [
        "print(classification_report(y_test, polyPredictions))"
      ],
      "execution_count": 35,
      "outputs": [
        {
          "output_type": "stream",
          "text": [
            "             precision    recall  f1-score   support\n",
            "\n",
            "          0       1.00      1.00      1.00        67\n",
            "          1       0.99      1.00      0.99        72\n",
            "          2       1.00      1.00      1.00        66\n",
            "          3       0.99      0.97      0.98        71\n",
            "          4       1.00      1.00      1.00        78\n",
            "          5       0.99      0.99      0.99        83\n",
            "          6       1.00      1.00      1.00        69\n",
            "          7       0.99      0.99      0.99        71\n",
            "          8       0.98      0.98      0.98        65\n",
            "          9       0.97      0.97      0.97        77\n",
            "\n",
            "avg / total       0.99      0.99      0.99       719\n",
            "\n"
          ],
          "name": "stdout"
        }
      ]
    },
    {
      "metadata": {
        "id": "oRdZePcC34Lh",
        "colab_type": "text"
      },
      "cell_type": "markdown",
      "source": [
        "## sigmoid kernel"
      ]
    },
    {
      "metadata": {
        "id": "CiCW8v3z4CWa",
        "colab_type": "code",
        "colab": {}
      },
      "cell_type": "code",
      "source": [
        "sigmoid = SVC(kernel='sigmoid')"
      ],
      "execution_count": 0,
      "outputs": []
    },
    {
      "metadata": {
        "id": "HwDee63Z4Lv9",
        "colab_type": "code",
        "colab": {
          "base_uri": "https://localhost:8080/",
          "height": 85
        },
        "outputId": "356a76f6-c34c-47ef-e097-481c056d0ae4"
      },
      "cell_type": "code",
      "source": [
        "sigmoid.fit(X_train, y_train)"
      ],
      "execution_count": 39,
      "outputs": [
        {
          "output_type": "execute_result",
          "data": {
            "text/plain": [
              "SVC(C=1.0, cache_size=200, class_weight=None, coef0=0.0,\n",
              "  decision_function_shape='ovr', degree=3, gamma='auto', kernel='sigmoid',\n",
              "  max_iter=-1, probability=False, random_state=None, shrinking=True,\n",
              "  tol=0.001, verbose=False)"
            ]
          },
          "metadata": {
            "tags": []
          },
          "execution_count": 39
        }
      ]
    },
    {
      "metadata": {
        "id": "lB_QFMtJ37nx",
        "colab_type": "code",
        "colab": {}
      },
      "cell_type": "code",
      "source": [
        "sigmoidPredictions = sigmoid.predict(X_test)"
      ],
      "execution_count": 0,
      "outputs": []
    },
    {
      "metadata": {
        "id": "0JTwHc2t4Q-u",
        "colab_type": "code",
        "colab": {
          "base_uri": "https://localhost:8080/",
          "height": 34
        },
        "outputId": "324262fa-fb63-4c92-ca91-a55e929d8be1"
      },
      "cell_type": "code",
      "source": [
        "print(accuracy_score(y_test, sigmoidPredictions))"
      ],
      "execution_count": 42,
      "outputs": [
        {
          "output_type": "stream",
          "text": [
            "0.09735744089012517\n"
          ],
          "name": "stdout"
        }
      ]
    },
    {
      "metadata": {
        "id": "uwGA2yWl4acE",
        "colab_type": "code",
        "colab": {
          "base_uri": "https://localhost:8080/",
          "height": 326
        },
        "outputId": "2d171de4-34a5-447d-cd36-6d73224c0a5d"
      },
      "cell_type": "code",
      "source": [
        "print(classification_report(y_test, sigmoidPredictions))"
      ],
      "execution_count": 43,
      "outputs": [
        {
          "output_type": "stream",
          "text": [
            "             precision    recall  f1-score   support\n",
            "\n",
            "          0       0.00      0.00      0.00        67\n",
            "          1       0.00      0.00      0.00        72\n",
            "          2       0.00      0.00      0.00        66\n",
            "          3       0.25      0.01      0.03        71\n",
            "          4       0.00      0.00      0.00        78\n",
            "          5       0.00      0.00      0.00        83\n",
            "          6       0.10      1.00      0.18        69\n",
            "          7       0.00      0.00      0.00        71\n",
            "          8       0.00      0.00      0.00        65\n",
            "          9       0.00      0.00      0.00        77\n",
            "\n",
            "avg / total       0.03      0.10      0.02       719\n",
            "\n"
          ],
          "name": "stdout"
        },
        {
          "output_type": "stream",
          "text": [
            "/usr/local/lib/python2.7/dist-packages/sklearn/metrics/classification.py:1135: UndefinedMetricWarning: Precision and F-score are ill-defined and being set to 0.0 in labels with no predicted samples.\n",
            "  'precision', 'predicted', average, warn_for)\n"
          ],
          "name": "stderr"
        }
      ]
    },
    {
      "metadata": {
        "id": "CqGKXaee4qEA",
        "colab_type": "text"
      },
      "cell_type": "markdown",
      "source": [
        "## gaussian kernel"
      ]
    },
    {
      "metadata": {
        "id": "EnoT9wxe4s0A",
        "colab_type": "code",
        "colab": {}
      },
      "cell_type": "code",
      "source": [
        "gaussian = SVC(kernel='rbf')"
      ],
      "execution_count": 0,
      "outputs": []
    },
    {
      "metadata": {
        "id": "gapGD2fR4yAY",
        "colab_type": "code",
        "colab": {
          "base_uri": "https://localhost:8080/",
          "height": 85
        },
        "outputId": "c720fc53-a779-4292-e2e4-be1c076def78"
      },
      "cell_type": "code",
      "source": [
        "gaussian.fit(X_train, y_train)"
      ],
      "execution_count": 45,
      "outputs": [
        {
          "output_type": "execute_result",
          "data": {
            "text/plain": [
              "SVC(C=1.0, cache_size=200, class_weight=None, coef0=0.0,\n",
              "  decision_function_shape='ovr', degree=3, gamma='auto', kernel='rbf',\n",
              "  max_iter=-1, probability=False, random_state=None, shrinking=True,\n",
              "  tol=0.001, verbose=False)"
            ]
          },
          "metadata": {
            "tags": []
          },
          "execution_count": 45
        }
      ]
    },
    {
      "metadata": {
        "id": "UtipZBUR40wf",
        "colab_type": "code",
        "colab": {}
      },
      "cell_type": "code",
      "source": [
        "gaussianPredictions = gaussian.predict(X_test)"
      ],
      "execution_count": 0,
      "outputs": []
    },
    {
      "metadata": {
        "id": "TNilUozh45nA",
        "colab_type": "code",
        "colab": {
          "base_uri": "https://localhost:8080/",
          "height": 34
        },
        "outputId": "20cfe11e-1365-4e73-8c7a-e9185680085b"
      },
      "cell_type": "code",
      "source": [
        "print(accuracy_score(y_test, gaussianPredictions))"
      ],
      "execution_count": 48,
      "outputs": [
        {
          "output_type": "stream",
          "text": [
            "0.4631432545201669\n"
          ],
          "name": "stdout"
        }
      ]
    },
    {
      "metadata": {
        "id": "PnhzSNqD4_N1",
        "colab_type": "code",
        "colab": {
          "base_uri": "https://localhost:8080/",
          "height": 272
        },
        "outputId": "91056428-d3b1-4aee-e1db-4c97e34f88b2"
      },
      "cell_type": "code",
      "source": [
        "print(classification_report(y_test, gaussianPredictions))"
      ],
      "execution_count": 49,
      "outputs": [
        {
          "output_type": "stream",
          "text": [
            "             precision    recall  f1-score   support\n",
            "\n",
            "          0       1.00      0.48      0.65        67\n",
            "          1       1.00      0.46      0.63        72\n",
            "          2       1.00      0.67      0.80        66\n",
            "          3       0.16      1.00      0.27        71\n",
            "          4       1.00      0.26      0.41        78\n",
            "          5       0.00      0.00      0.00        83\n",
            "          6       1.00      0.77      0.87        69\n",
            "          7       1.00      0.55      0.71        71\n",
            "          8       1.00      0.46      0.63        65\n",
            "          9       1.00      0.14      0.25        77\n",
            "\n",
            "avg / total       0.80      0.46      0.50       719\n",
            "\n"
          ],
          "name": "stdout"
        }
      ]
    },
    {
      "metadata": {
        "id": "osu8ukyO5R8X",
        "colab_type": "text"
      },
      "cell_type": "markdown",
      "source": [
        "## the accuracy of linear kenel is 0.983 and that of polynomial kernel is 0.9902 which is better than others . this is beacause AS WE USE MORE COMPLEX KERNELS IT ALLOWS THE HYPERPLANE  TO BE CURVED OR EVEN MORE COMPLEX.THIS LEAD TO MORE ACCURATE CLASSIFIER"
      ]
    },
    {
      "metadata": {
        "id": "O4Chq3TI6DcC",
        "colab_type": "code",
        "colab": {}
      },
      "cell_type": "code",
      "source": [
        ""
      ],
      "execution_count": 0,
      "outputs": []
    }
  ]
}